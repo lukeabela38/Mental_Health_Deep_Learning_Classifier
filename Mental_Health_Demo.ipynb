{
  "nbformat": 4,
  "nbformat_minor": 0,
  "metadata": {
    "colab": {
      "name": "Mental Health Demo.ipynb",
      "provenance": []
    },
    "kernelspec": {
      "name": "python3",
      "display_name": "Python 3"
    },
    "language_info": {
      "name": "python"
    }
  },
  "cells": [
    {
      "cell_type": "code",
      "metadata": {
        "colab": {
          "base_uri": "https://localhost:8080/"
        },
        "id": "z3QZJ0NvEJYy",
        "outputId": "bca6186e-bf8c-4a77-e2d0-a1ecb6944f2d"
      },
      "source": [
        "import pickle\n",
        "import nltk\n",
        "import tensorflow as tf\n",
        "import numpy as np\n",
        "nltk.download('stopwords')\n",
        "from nltk.corpus import stopwords\n",
        "import string\n",
        "import pandas as pd\n",
        "import re\n",
        "from keras_preprocessing.sequence import pad_sequences\n",
        "import os\n",
        "!pip install gradio\n",
        "import gradio as gr"
      ],
      "execution_count": 1,
      "outputs": [
        {
          "output_type": "stream",
          "text": [
            "[nltk_data] Downloading package stopwords to /root/nltk_data...\n",
            "[nltk_data]   Package stopwords is already up-to-date!\n",
            "Requirement already satisfied: gradio in /usr/local/lib/python3.7/dist-packages (2.2.8)\n",
            "Requirement already satisfied: Flask>=1.1.1 in /usr/local/lib/python3.7/dist-packages (from gradio) (1.1.4)\n",
            "Requirement already satisfied: matplotlib in /usr/local/lib/python3.7/dist-packages (from gradio) (3.2.2)\n",
            "Requirement already satisfied: pycryptodome in /usr/local/lib/python3.7/dist-packages (from gradio) (3.10.1)\n",
            "Requirement already satisfied: pandas in /usr/local/lib/python3.7/dist-packages (from gradio) (1.1.5)\n",
            "Requirement already satisfied: requests in /usr/local/lib/python3.7/dist-packages (from gradio) (2.23.0)\n",
            "Requirement already satisfied: numpy in /usr/local/lib/python3.7/dist-packages (from gradio) (1.19.5)\n",
            "Requirement already satisfied: scipy in /usr/local/lib/python3.7/dist-packages (from gradio) (1.4.1)\n",
            "Requirement already satisfied: flask-cachebuster in /usr/local/lib/python3.7/dist-packages (from gradio) (1.0.0)\n",
            "Requirement already satisfied: ffmpy in /usr/local/lib/python3.7/dist-packages (from gradio) (0.3.0)\n",
            "Requirement already satisfied: Flask-Cors>=3.0.8 in /usr/local/lib/python3.7/dist-packages (from gradio) (3.0.10)\n",
            "Requirement already satisfied: analytics-python in /usr/local/lib/python3.7/dist-packages (from gradio) (1.4.0)\n",
            "Requirement already satisfied: markdown2 in /usr/local/lib/python3.7/dist-packages (from gradio) (2.4.0)\n",
            "Requirement already satisfied: paramiko in /usr/local/lib/python3.7/dist-packages (from gradio) (2.7.2)\n",
            "Requirement already satisfied: pillow in /usr/local/lib/python3.7/dist-packages (from gradio) (7.1.2)\n",
            "Requirement already satisfied: Flask-Login in /usr/local/lib/python3.7/dist-packages (from gradio) (0.5.0)\n",
            "Requirement already satisfied: click<8.0,>=5.1 in /usr/local/lib/python3.7/dist-packages (from Flask>=1.1.1->gradio) (7.1.2)\n",
            "Requirement already satisfied: itsdangerous<2.0,>=0.24 in /usr/local/lib/python3.7/dist-packages (from Flask>=1.1.1->gradio) (1.1.0)\n",
            "Requirement already satisfied: Werkzeug<2.0,>=0.15 in /usr/local/lib/python3.7/dist-packages (from Flask>=1.1.1->gradio) (1.0.1)\n",
            "Requirement already satisfied: Jinja2<3.0,>=2.10.1 in /usr/local/lib/python3.7/dist-packages (from Flask>=1.1.1->gradio) (2.11.3)\n",
            "Requirement already satisfied: Six in /usr/local/lib/python3.7/dist-packages (from Flask-Cors>=3.0.8->gradio) (1.15.0)\n",
            "Requirement already satisfied: MarkupSafe>=0.23 in /usr/local/lib/python3.7/dist-packages (from Jinja2<3.0,>=2.10.1->Flask>=1.1.1->gradio) (2.0.1)\n",
            "Requirement already satisfied: python-dateutil>2.1 in /usr/local/lib/python3.7/dist-packages (from analytics-python->gradio) (2.8.1)\n",
            "Requirement already satisfied: monotonic>=1.5 in /usr/local/lib/python3.7/dist-packages (from analytics-python->gradio) (1.6)\n",
            "Requirement already satisfied: backoff==1.10.0 in /usr/local/lib/python3.7/dist-packages (from analytics-python->gradio) (1.10.0)\n",
            "Requirement already satisfied: chardet<4,>=3.0.2 in /usr/local/lib/python3.7/dist-packages (from requests->gradio) (3.0.4)\n",
            "Requirement already satisfied: idna<3,>=2.5 in /usr/local/lib/python3.7/dist-packages (from requests->gradio) (2.10)\n",
            "Requirement already satisfied: certifi>=2017.4.17 in /usr/local/lib/python3.7/dist-packages (from requests->gradio) (2021.5.30)\n",
            "Requirement already satisfied: urllib3!=1.25.0,!=1.25.1,<1.26,>=1.21.1 in /usr/local/lib/python3.7/dist-packages (from requests->gradio) (1.24.3)\n",
            "Requirement already satisfied: pyparsing!=2.0.4,!=2.1.2,!=2.1.6,>=2.0.1 in /usr/local/lib/python3.7/dist-packages (from matplotlib->gradio) (2.4.7)\n",
            "Requirement already satisfied: cycler>=0.10 in /usr/local/lib/python3.7/dist-packages (from matplotlib->gradio) (0.10.0)\n",
            "Requirement already satisfied: kiwisolver>=1.0.1 in /usr/local/lib/python3.7/dist-packages (from matplotlib->gradio) (1.3.1)\n",
            "Requirement already satisfied: pytz>=2017.2 in /usr/local/lib/python3.7/dist-packages (from pandas->gradio) (2018.9)\n",
            "Requirement already satisfied: pynacl>=1.0.1 in /usr/local/lib/python3.7/dist-packages (from paramiko->gradio) (1.4.0)\n",
            "Requirement already satisfied: bcrypt>=3.1.3 in /usr/local/lib/python3.7/dist-packages (from paramiko->gradio) (3.2.0)\n",
            "Requirement already satisfied: cryptography>=2.5 in /usr/local/lib/python3.7/dist-packages (from paramiko->gradio) (3.4.7)\n",
            "Requirement already satisfied: cffi>=1.1 in /usr/local/lib/python3.7/dist-packages (from bcrypt>=3.1.3->paramiko->gradio) (1.14.6)\n",
            "Requirement already satisfied: pycparser in /usr/local/lib/python3.7/dist-packages (from cffi>=1.1->bcrypt>=3.1.3->paramiko->gradio) (2.20)\n"
          ],
          "name": "stdout"
        }
      ]
    },
    {
      "cell_type": "code",
      "metadata": {
        "id": "WChSHcciElZc"
      },
      "source": [
        "with open('/content/drive/MyDrive/Models/Anxiety_Dict.p', 'rb') as handle:\n",
        "    anxiety_word_index = pickle.load(handle)\n",
        "\n",
        "with open('/content/drive/MyDrive/Models/Control_Dict.p', 'rb') as handle:\n",
        "    control_word_index = pickle.load(handle)\n",
        "\n",
        "with open('/content/drive/MyDrive/Models/Depression_Dict.p', 'rb') as handle:\n",
        "    depression_word_index = pickle.load(handle)\n",
        "\n",
        "with open('/content/drive/MyDrive/Models/Autism_Dict.p', 'rb') as handle:\n",
        "    autism_word_index = pickle.load(handle)\n",
        "\n",
        "with open('/content/drive/MyDrive/Models/BPD_Dict.p', 'rb') as handle:\n",
        "    BPD_word_index = pickle.load(handle)\n",
        "\n",
        "with open('/content/drive/MyDrive/Models/Bipolar_Dict.p', 'rb') as handle:\n",
        "    bipolar_word_index = pickle.load(handle)\n",
        "\n",
        "with open('/content/drive/MyDrive/Models/Schizo_Dict.p', 'rb') as handle:\n",
        "    schizo_word_index = pickle.load(handle)\n",
        "\n",
        "\n",
        "anxiety_model = tf.keras.models.load_model('/content/drive/MyDrive/Models/MHSMC_Model_Anxiety')\n",
        "control_model = tf.keras.models.load_model('/content/drive/MyDrive/Models/MHSMC_Model_Control')\n",
        "depression_model = tf.keras.models.load_model('/content/drive/MyDrive/Models/MHSMC_Model_Depression')\n",
        "autism_model = tf.keras.models.load_model('/content/drive/MyDrive/Models/MHSMC_Model_Autism')\n",
        "BPD_model = tf.keras.models.load_model('/content/drive/MyDrive/Models/MHSMC_Model_BPD')\n",
        "bipolar_model = tf.keras.models.load_model('/content/drive/MyDrive/Models/MHSMC_Model_Bipolar')\n",
        "schizo_model = tf.keras.models.load_model('/content/drive/MyDrive/Models/MHSMC_Model_Schizo')"
      ],
      "execution_count": 2,
      "outputs": []
    },
    {
      "cell_type": "code",
      "metadata": {
        "id": "sq2Tpw5YD_VB"
      },
      "source": [
        "def detokenize(tokens):\n",
        "    text = ' '.join(tokens)\n",
        "    return text\n",
        "\n",
        "def preprocess_corpus(tokens):\n",
        "  tokens = [t.lower() for t in tokens] # make lowercase\n",
        "\n",
        "  stop = set(stopwords.words('english'))\n",
        "  tokens = [t for t in tokens if t not in stop] # remove stop words\n",
        "  tokens = list(filter(None, tokens)) # get rid of extra spaces\n",
        "\n",
        "  text = detokenize(tokens)\n",
        "\n",
        "\n",
        "  #text = re.sub(r\"(\\w)([.,;:!?'\\\"”\\)])\", r\"\\1 \\2\", text) #put spaces between word and special characters\n",
        "  #text = re.sub(r\"([.,;:!?'\\\"“\\(])(\\w)\", r\"\\1 \\2\", text) #put spaces between special characters and word\n",
        "  #text = re.sub(r\"([.,;:!?'\\\"“\\(])(\\w)\", r\"([.,;:!?'\\\"“\\(])(\\w)\", text) #put spaces between special characters and other special characters\n",
        "\n",
        "  pattern = r\"[{}]\".format(string.punctuation) \n",
        "  text = re.sub(pattern, \"\", text)  # remove puntucation \n",
        "  text = re.sub(r'\\b\\d+\\b', '', text) # only accept text\n",
        "  \n",
        "  tokens = re.split(r\"\\s+\",text) #split the words into array\n",
        "  tokens = list(filter(None, tokens)) # get rid of extra spaces\n",
        "  \n",
        "  return tokens\n",
        "\n",
        "def getProcessCorpus(data):\n",
        "  processed_data = []\n",
        "  for i in range(len(data)):\n",
        "    sentence = data[i]\n",
        "    p_sentence = preprocess_corpus(sentence)\n",
        "    processed_data.append(p_sentence[1:len(p_sentence)])\n",
        "  return processed_data"
      ],
      "execution_count": 3,
      "outputs": []
    },
    {
      "cell_type": "code",
      "metadata": {
        "id": "G_1SrDJ4E7qL"
      },
      "source": [
        "def runMentalHealthAlarmSystem(input_sentence):\n",
        "  processed_sentence = preprocess_corpus(input_sentence.split(' '))\n",
        "\n",
        "  x_anxiety = []\n",
        "  x_control = []\n",
        "  x_depression = []\n",
        "  x_autism = []\n",
        "  x_BPD = []\n",
        "  x_bipolar = []\n",
        "  x_schizo = []\n",
        "\n",
        "  x_anxiety_numeric = []\n",
        "  x_control_numeric = []\n",
        "  x_depression_numeric = []\n",
        "  x_autism_numeric = []\n",
        "  x_BPD_numeric = []\n",
        "  x_bipolar_numeric = []\n",
        "  x_schizo_numeric = []\n",
        "\n",
        "  for token in processed_sentence:\n",
        "    x_anxiety_numeric.append(anxiety_word_index[token])\n",
        "    x_control_numeric.append(control_word_index[token])\n",
        "    x_depression_numeric.append(depression_word_index[token])\n",
        "    x_autism_numeric.append(autism_word_index[token])\n",
        "    x_BPD_numeric.append(BPD_word_index[token])\n",
        "    x_bipolar_numeric.append(bipolar_word_index[token])\n",
        "    x_schizo_numeric.append(schizo_word_index[token])\n",
        "\n",
        "  x_anxiety.append(x_anxiety_numeric)\n",
        "  x_control.append(x_control_numeric)\n",
        "  x_depression.append(x_depression_numeric)\n",
        "  x_autism.append(x_autism_numeric)\n",
        "  x_BPD.append(x_BPD_numeric)\n",
        "  x_bipolar.append(x_bipolar_numeric)\n",
        "  x_schizo.append(x_schizo_numeric)\n",
        "\n",
        "  max_sequence_length = 5000\n",
        "\n",
        "  x_anxiety = np.array(pad_sequences(x_anxiety, maxlen = 4792, padding = 'pre'))\n",
        "  x_control = np.array(pad_sequences(x_control, maxlen = 4792, padding = 'pre'))\n",
        "  x_depression = np.array(pad_sequences(x_depression, maxlen = 8403, padding = 'pre'))\n",
        "  x_autism = np.array(pad_sequences(x_autism, maxlen = 3902, padding = 'pre'))\n",
        "  x_BPD = np.array(pad_sequences(x_BPD, maxlen = 2996, padding = 'pre'))\n",
        "  x_bipolar = np.array(pad_sequences(x_bipolar, maxlen = 4792, padding = 'pre'))\n",
        "  x_schizo = np.array(pad_sequences(x_schizo, maxlen = 2781, padding = 'pre'))\n",
        "\n",
        "  mental_health_stats = []\n",
        "\n",
        "  anxiety_percentage = (anxiety_model.predict(x_anxiety))\n",
        "  control_percentage = (control_model.predict(x_control))\n",
        "  depression_percentage = (depression_model.predict(x_depression))\n",
        "  autism_percentage = (autism_model.predict(x_autism))\n",
        "  BPD_percentage = (BPD_model.predict(x_BPD))\n",
        "  bipolar_percentage = (bipolar_model.predict(x_bipolar))\n",
        "  schizo_percentage = (schizo_model.predict(x_schizo))\n",
        "\n",
        "  mental_health_stats.append(\"{:.2%}\".format(anxiety_percentage[0][1]))\n",
        "  mental_health_stats.append(\"{:.2%}\".format(control_percentage[0][1]))\n",
        "  mental_health_stats.append(\"{:.2%}\".format(depression_percentage[0][1]))\n",
        "  mental_health_stats.append(\"{:.2%}\".format(autism_percentage[0][1]))\n",
        "  mental_health_stats.append(\"{:.2%}\".format(BPD_percentage[0][1]))\n",
        "  mental_health_stats.append(\"{:.2%}\".format(bipolar_percentage[0][1]))\n",
        "  mental_health_stats.append(\"{:.2%}\".format(schizo_percentage[0][1]))\n",
        "\n",
        "  df = pd.DataFrame(mental_health_stats, columns = ['Percentage Chance of Disorder'])\n",
        "  df['Disorder'] = ['Anxiety', 'Control', 'Depression', 'Autism', 'Borderline Personality', 'Bipolar', 'Schizo']\n",
        "  df['Description'] = ['Assess similarity to Reddit discussion of Anxiety', \n",
        "                       'Assess similarity to Reddit forum to discuss, vent, support and share information about mental health, illness, and wellness.', \n",
        "                       'Assess similarity to Reddit discussion of Depression',\n",
        "                       'Assess similarity to Reddit discussion of Autism',\n",
        "                       'Assess similarity to Reddit discussion of Borderline Personality Disorder',\n",
        "                       'Assess similarity to Reddit discussion of Bipolar',\n",
        "                       'Assess similarity to Reddit disccusion of Schizo']\n",
        "  \n",
        "  return df\n"
      ],
      "execution_count": 16,
      "outputs": []
    },
    {
      "cell_type": "code",
      "metadata": {
        "colab": {
          "base_uri": "https://localhost:8080/"
        },
        "id": "JxA2PR2uHZ1n",
        "outputId": "2d5e2cda-c871-41f5-8bdd-d8df738da34d"
      },
      "source": [
        "sentence = 'I am depressed and upset, and I dont know what to do'\n",
        "df = runMentalHealthAlarmSystem(sentence)\n",
        "print(df)"
      ],
      "execution_count": 17,
      "outputs": [
        {
          "output_type": "stream",
          "text": [
            "  Percentage Chance of Disorder  ...                                        Description\n",
            "0                         0.72%  ...  Assess similarity to Reddit discussion of Anxiety\n",
            "1                        34.18%  ...  Assess similarity to Reddit forum to discuss, ...\n",
            "2                        96.03%  ...  Assess similarity to Reddit discussion of Depr...\n",
            "3                        38.39%  ...   Assess similarity to Reddit discussion of Autism\n",
            "4                        28.15%  ...  Assess similarity to Reddit discussion of Bord...\n",
            "5                        39.26%  ...  Assess similarity to Reddit discussion of Bipolar\n",
            "6                         2.83%  ...   Assess similarity to Reddit disccusion of Schizo\n",
            "\n",
            "[7 rows x 3 columns]\n"
          ],
          "name": "stdout"
        }
      ]
    },
    {
      "cell_type": "code",
      "metadata": {
        "colab": {
          "base_uri": "https://localhost:8080/",
          "height": 640
        },
        "id": "WmOBjoBiPDm4",
        "outputId": "9722c6ac-1219-4354-e5fe-1374eba1c9d5"
      },
      "source": [
        "iface = gr.Interface(fn=runMentalHealthAlarmSystem, inputs=\"text\", outputs=\"dataframe\")\n",
        "iface.launch(share=True)"
      ],
      "execution_count": 18,
      "outputs": [
        {
          "output_type": "stream",
          "text": [
            "Colab notebook detected. To show errors in colab notebook, set `debug=True` in `launch()`\n",
            "This share link will expire in 24 hours. If you need a permanent link, visit: https://gradio.app/introducing-hosted (NEW!)\n",
            "Running on External URL: https://28505.gradio.app\n",
            "Interface loading below...\n"
          ],
          "name": "stdout"
        },
        {
          "output_type": "display_data",
          "data": {
            "text/html": [
              "\n",
              "        <iframe\n",
              "            width=\"900\"\n",
              "            height=\"500\"\n",
              "            src=\"https://28505.gradio.app\"\n",
              "            frameborder=\"0\"\n",
              "            allowfullscreen\n",
              "        ></iframe>\n",
              "        "
            ],
            "text/plain": [
              "<IPython.lib.display.IFrame at 0x7fb445efd5d0>"
            ]
          },
          "metadata": {
            "tags": []
          }
        },
        {
          "output_type": "execute_result",
          "data": {
            "text/plain": [
              "(<Flask 'gradio.networking'>,\n",
              " 'http://127.0.0.1:7864/',\n",
              " 'https://28505.gradio.app')"
            ]
          },
          "metadata": {
            "tags": []
          },
          "execution_count": 18
        }
      ]
    }
  ]
}
